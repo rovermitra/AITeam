{
 "cells": [
  {
   "cell_type": "code",
   "execution_count": 4,
   "id": "36b7490f",
   "metadata": {},
   "outputs": [
    {
     "name": "stdout",
     "output_type": "stream",
     "text": [
      "{\n",
      "  \"name\": \"Alice0\",\n",
      "  \"age\": 36,\n",
      "  \"location\": \"Cape Town\",\n",
      "  \"interests\": [\n",
      "    \"hiking\",\n",
      "    \"volunteering\",\n",
      "    \"history\",\n",
      "    \"swimming\",\n",
      "    \"dancing\"\n",
      "  ],\n",
      "  \"personality\": {\n",
      "    \"extraversion\": 0.56,\n",
      "    \"openness\": 0.72,\n",
      "    \"agreeableness\": 0.42,\n",
      "    \"conscientiousness\": 0.47,\n",
      "    \"neuroticism\": 0.42,\n",
      "    \"creativity\": 0.2,\n",
      "    \"curiosity\": 0.48,\n",
      "    \"risk_taking\": 0.93,\n",
      "    \"empathy\": 0.42,\n",
      "    \"self_discipline\": 0.77\n",
      "  },\n",
      "  \"languages\": [\n",
      "    \"en\",\n",
      "    \"de\",\n",
      "    \"it\"\n",
      "  ],\n",
      "  \"bio\": \"With a keen interest in volunteering, Alice0 thrives on creativity and learning.\"\n",
      "}\n",
      "{\n",
      "  \"name\": \"Bob1\",\n",
      "  \"age\": 24,\n",
      "  \"location\": \"Rome\",\n",
      "  \"interests\": [\n",
      "    \"swimming\",\n",
      "    \"volunteering\",\n",
      "    \"reading\",\n",
      "    \"movies\",\n",
      "    \"gardening\",\n",
      "    \"podcasting\"\n",
      "  ],\n",
      "  \"personality\": {\n",
      "    \"extraversion\": 0.72,\n",
      "    \"openness\": 0.35,\n",
      "    \"agreeableness\": 0.3,\n",
      "    \"conscientiousness\": 0.52,\n",
      "    \"neuroticism\": 0.8,\n",
      "    \"creativity\": 0.53,\n",
      "    \"curiosity\": 0.39,\n",
      "    \"risk_taking\": 0.48,\n",
      "    \"empathy\": 0.67,\n",
      "    \"self_discipline\": 0.61\n",
      "  },\n",
      "  \"languages\": [\n",
      "    \"ja\",\n",
      "    \"ru\",\n",
      "    \"ko\"\n",
      "  ],\n",
      "  \"bio\": \"Passionate about swimming, volunteering, Bob1 is always seeking new experiences in Rome.\"\n",
      "}\n",
      "{\n",
      "  \"name\": \"Charlie2\",\n",
      "  \"age\": 23,\n",
      "  \"location\": \"Cape Town\",\n",
      "  \"interests\": [\n",
      "    \"music\",\n",
      "    \"cycling\",\n",
      "    \"swimming\",\n",
      "    \"robotics\",\n",
      "    \"podcasting\",\n",
      "    \"traveling\"\n",
      "  ],\n",
      "  \"personality\": {\n",
      "    \"extraversion\": 0.5,\n",
      "    \"openness\": 0.73,\n",
      "    \"agreeableness\": 0.6,\n",
      "    \"conscientiousness\": 0.87,\n",
      "    \"neuroticism\": 0.6,\n",
      "    \"creativity\": 0.23,\n",
      "    \"curiosity\": 0.83,\n",
      "    \"risk_taking\": 0.62,\n",
      "    \"empathy\": 0.56,\n",
      "    \"self_discipline\": 0.35\n",
      "  },\n",
      "  \"languages\": [\n",
      "    \"ja\",\n",
      "    \"fr\",\n",
      "    \"ru\"\n",
      "  ],\n",
      "  \"bio\": \"Passionate about music, cycling, Charlie2 is always seeking new experiences in Cape Town.\"\n",
      "}\n"
     ]
    }
   ],
   "source": [
    "import random\n",
    "import json\n",
    "\n",
    "names = [\"Alice\", \"Bob\", \"Charlie\", \"Diana\", \"Eva\", \"Frank\", \"Grace\", \"Henry\", \"Ivy\", \"Jack\",\n",
    "         \"Kira\", \"Liam\", \"Mona\", \"Nate\", \"Olivia\", \"Paul\", \"Quinn\", \"Rosa\", \"Sam\", \"Tina\",\n",
    "         \"Uma\", \"Viktor\", \"Wendy\", \"Xander\", \"Yara\", \"Zane\", \"Ava\", \"Ben\", \"Cleo\", \"Dan\",\n",
    "         \"Elle\", \"Finn\", \"Gwen\", \"Hugo\", \"Ines\", \"Jules\", \"Kate\", \"Leo\", \"Mira\", \"Noah\",\n",
    "         \"Omar\", \"Pia\", \"Rex\", \"Sophie\", \"Tom\", \"Ursula\", \"Vera\", \"Will\", \"Zoe\", \"Gianni\",\n",
    "         \"Lucia\", \"Miguel\", \"Anya\", \"Chloe\", \"Deniz\", \"Erik\", \"Fatima\", \"Gustav\", \"Hana\", \"Imran\",\n",
    "         \"Jana\", \"Karim\", \"Lars\", \"Mei\", \"Nia\", \"Oli\", \"Priya\", \"Qasim\", \"Riya\", \"Sven\", \"Tariq\",\n",
    "         \"Ulrik\", \"Viola\", \"Wei\", \"Xenia\", \"Yuki\", \"Zara\", \"Arjun\", \"Bianca\", \"Cedric\", \"Daisy\",\n",
    "         \"Emil\", \"Farah\", \"Gino\", \"Helena\", \"Ida\", \"Jonas\", \"Khalid\", \"Lea\", \"Matteo\", \"Nadia\",\n",
    "         \"Oksana\", \"Pascal\", \"Ruben\", \"Selma\", \"Tarek\", \"Valerie\", \"Waleed\", \"Yasir\", \"Zahra\"]\n",
    "\n",
    "locations = [\"New York\", \"San Francisco\", \"Chicago\", \"Berlin\", \"London\", \"Paris\", \"Tokyo\", \"Sydney\", \"Dubai\", \"Toronto\",\n",
    "             \"Barcelona\", \"Rome\", \"Munich\", \"Amsterdam\", \"Stockholm\", \"Beijing\", \"Moscow\", \"Delhi\", \"Seoul\", \"Cape Town\"]\n",
    "\n",
    "interests = [\n",
    "    \"hiking\", \"AI\", \"photography\", \"traveling\", \"robotics\", \"cooking\", \"painting\", \"reading\", \"dancing\", \"writing\",\n",
    "    \"music\", \"movies\", \"fitness\", \"yoga\", \"swimming\", \"cycling\", \"gardening\", \"gaming\", \"volunteering\", \"meditation\",\n",
    "    \"chess\", \"podcasting\", \"history\", \"finance\", \"languages\"\n",
    "]\n",
    "\n",
    "languages_all = [\"en\", \"es\", \"fr\", \"de\", \"zh\", \"ja\", \"ru\", \"it\", \"hi\", \"ar\", \"pt\", \"tr\", \"ko\"]\n",
    "\n",
    "def random_bio(name, interests, location, main_trait):\n",
    "    bios = [\n",
    "        f\"{name} is a {main_trait} soul from {location} who loves {random.choice(interests)}.\",\n",
    "        f\"Avid about {random.choice(interests)}, {name} enjoys exploring {location}.\",\n",
    "        f\"Passionate about {', '.join(interests[:2])}, {name} is always seeking new experiences in {location}.\",\n",
    "        f\"{name} finds peace in {random.choice(interests)} and is curious about people in {location}.\",\n",
    "        f\"With a keen interest in {random.choice(interests)}, {name} thrives on creativity and learning.\"\n",
    "    ]\n",
    "    return random.choice(bios)\n",
    "\n",
    "users = []\n",
    "for i in range(100):\n",
    "    user_name = names[i % len(names)] + str(i)  # unique names\n",
    "    age = random.randint(20, 40)\n",
    "    location = random.choice(locations)\n",
    "    user_interests = random.sample(interests, k=random.randint(4, 7))\n",
    "    # psychological perspective: Big Five + a few more, all between 0.2 and 0.95\n",
    "    personality = {\n",
    "        \"extraversion\": round(random.uniform(0.2, 0.95), 2),\n",
    "        \"openness\": round(random.uniform(0.2, 0.95), 2),\n",
    "        \"agreeableness\": round(random.uniform(0.2, 0.95), 2),\n",
    "        \"conscientiousness\": round(random.uniform(0.2, 0.95), 2),\n",
    "        \"neuroticism\": round(random.uniform(0.2, 0.95), 2),\n",
    "        \"creativity\": round(random.uniform(0.2, 0.95), 2),\n",
    "        \"curiosity\": round(random.uniform(0.2, 0.95), 2),\n",
    "        \"risk_taking\": round(random.uniform(0.2, 0.95), 2),\n",
    "        \"empathy\": round(random.uniform(0.2, 0.95), 2),\n",
    "        \"self_discipline\": round(random.uniform(0.2, 0.95), 2)\n",
    "    }\n",
    "    languages = random.sample(languages_all, k=random.randint(1, 3))\n",
    "    main_trait = max(personality, key=personality.get)\n",
    "    bio = random_bio(user_name, user_interests, location, main_trait)\n",
    "    user = {\n",
    "        \"name\": user_name,\n",
    "        \"age\": age,\n",
    "        \"location\": location,\n",
    "        \"interests\": user_interests,\n",
    "        \"personality\": personality,\n",
    "        \"languages\": languages,\n",
    "        \"bio\": bio\n",
    "    }\n",
    "    users.append(user)\n",
    "\n",
    "# Save to file for LLM use\n",
    "with open(\"psychological_user_profiles.json\", \"w\", encoding=\"utf-8\") as f:\n",
    "    json.dump(users, f, indent=4)\n",
    "\n",
    "# Print a few sample users\n",
    "for user in users[:3]:\n",
    "    print(json.dumps(user, indent=2))\n"
   ]
  },
  {
   "cell_type": "code",
   "execution_count": 3,
   "id": "01c80529",
   "metadata": {},
   "outputs": [
    {
     "data": {
      "text/plain": [
       "100"
      ]
     },
     "execution_count": 3,
     "metadata": {},
     "output_type": "execute_result"
    }
   ],
   "source": [
    "len(users)"
   ]
  },
  {
   "cell_type": "code",
   "execution_count": null,
   "id": "072c0cd7",
   "metadata": {},
   "outputs": [],
   "source": []
  },
  {
   "cell_type": "markdown",
   "id": "b266a73a",
   "metadata": {},
   "source": [
    "## Step 2: Setup Matching System\n",
    "We’ll build:\n",
    "\n",
    "Embeddings for interests and bio\n",
    "\n",
    "A composite scorer\n",
    "\n",
    "A matching loop"
   ]
  },
  {
   "cell_type": "code",
   "execution_count": 3,
   "id": "f98f0952",
   "metadata": {},
   "outputs": [
    {
     "name": "stderr",
     "output_type": "stream",
     "text": [
      "2025-08-07 18:27:13.140013: I tensorflow/core/util/port.cc:113] oneDNN custom operations are on. You may see slightly different numerical results due to floating-point round-off errors from different computation orders. To turn them off, set the environment variable `TF_ENABLE_ONEDNN_OPTS=0`.\n",
      "2025-08-07 18:27:13.179433: E external/local_xla/xla/stream_executor/cuda/cuda_dnn.cc:9261] Unable to register cuDNN factory: Attempting to register factory for plugin cuDNN when one has already been registered\n",
      "2025-08-07 18:27:13.179461: E external/local_xla/xla/stream_executor/cuda/cuda_fft.cc:607] Unable to register cuFFT factory: Attempting to register factory for plugin cuFFT when one has already been registered\n",
      "2025-08-07 18:27:13.180410: E external/local_xla/xla/stream_executor/cuda/cuda_blas.cc:1515] Unable to register cuBLAS factory: Attempting to register factory for plugin cuBLAS when one has already been registered\n",
      "2025-08-07 18:27:13.186864: I tensorflow/core/platform/cpu_feature_guard.cc:182] This TensorFlow binary is optimized to use available CPU instructions in performance-critical operations.\n",
      "To enable the following instructions: AVX2 AVX512F AVX512_VNNI FMA, in other operations, rebuild TensorFlow with the appropriate compiler flags.\n",
      "2025-08-07 18:27:13.989894: W tensorflow/compiler/tf2tensorrt/utils/py_utils.cc:38] TF-TRT Warning: Could not find TensorRT\n"
     ]
    },
    {
     "data": {
      "application/vnd.jupyter.widget-view+json": {
       "model_id": "34824b9b6a674591a49ba74fe8438f37",
       "version_major": 2,
       "version_minor": 0
      },
      "text/plain": [
       "modules.json:   0%|          | 0.00/349 [00:00<?, ?B/s]"
      ]
     },
     "metadata": {},
     "output_type": "display_data"
    },
    {
     "data": {
      "application/vnd.jupyter.widget-view+json": {
       "model_id": "c172167923984113b8a944a6ebb1a383",
       "version_major": 2,
       "version_minor": 0
      },
      "text/plain": [
       "config_sentence_transformers.json:   0%|          | 0.00/116 [00:00<?, ?B/s]"
      ]
     },
     "metadata": {},
     "output_type": "display_data"
    },
    {
     "data": {
      "application/vnd.jupyter.widget-view+json": {
       "model_id": "5a8f0be365b748e9b1138d3e82579ea4",
       "version_major": 2,
       "version_minor": 0
      },
      "text/plain": [
       "README.md: 0.00B [00:00, ?B/s]"
      ]
     },
     "metadata": {},
     "output_type": "display_data"
    },
    {
     "data": {
      "application/vnd.jupyter.widget-view+json": {
       "model_id": "dcf611d9b53e41868d91936102ef6bf3",
       "version_major": 2,
       "version_minor": 0
      },
      "text/plain": [
       "sentence_bert_config.json:   0%|          | 0.00/53.0 [00:00<?, ?B/s]"
      ]
     },
     "metadata": {},
     "output_type": "display_data"
    },
    {
     "data": {
      "application/vnd.jupyter.widget-view+json": {
       "model_id": "c657017e22f44afcaba680718eccebff",
       "version_major": 2,
       "version_minor": 0
      },
      "text/plain": [
       "config.json:   0%|          | 0.00/612 [00:00<?, ?B/s]"
      ]
     },
     "metadata": {},
     "output_type": "display_data"
    },
    {
     "data": {
      "application/vnd.jupyter.widget-view+json": {
       "model_id": "9c4595028ebe41e586f159e64810d770",
       "version_major": 2,
       "version_minor": 0
      },
      "text/plain": [
       "model.safetensors:   0%|          | 0.00/90.9M [00:00<?, ?B/s]"
      ]
     },
     "metadata": {},
     "output_type": "display_data"
    },
    {
     "data": {
      "application/vnd.jupyter.widget-view+json": {
       "model_id": "2ea3809b36ed46de841bd07bd60b97da",
       "version_major": 2,
       "version_minor": 0
      },
      "text/plain": [
       "tokenizer_config.json:   0%|          | 0.00/350 [00:00<?, ?B/s]"
      ]
     },
     "metadata": {},
     "output_type": "display_data"
    },
    {
     "data": {
      "application/vnd.jupyter.widget-view+json": {
       "model_id": "2a01455c6045427e92ea3dcae69fe821",
       "version_major": 2,
       "version_minor": 0
      },
      "text/plain": [
       "vocab.txt: 0.00B [00:00, ?B/s]"
      ]
     },
     "metadata": {},
     "output_type": "display_data"
    },
    {
     "data": {
      "application/vnd.jupyter.widget-view+json": {
       "model_id": "67fd920cab7242afa6cfd48052a64232",
       "version_major": 2,
       "version_minor": 0
      },
      "text/plain": [
       "tokenizer.json: 0.00B [00:00, ?B/s]"
      ]
     },
     "metadata": {},
     "output_type": "display_data"
    },
    {
     "data": {
      "application/vnd.jupyter.widget-view+json": {
       "model_id": "543bff43c3034af282e4274b992f2b1b",
       "version_major": 2,
       "version_minor": 0
      },
      "text/plain": [
       "special_tokens_map.json:   0%|          | 0.00/112 [00:00<?, ?B/s]"
      ]
     },
     "metadata": {},
     "output_type": "display_data"
    },
    {
     "data": {
      "application/vnd.jupyter.widget-view+json": {
       "model_id": "38df98ef768f4a8f831d51dcc55d1e87",
       "version_major": 2,
       "version_minor": 0
      },
      "text/plain": [
       "config.json:   0%|          | 0.00/190 [00:00<?, ?B/s]"
      ]
     },
     "metadata": {},
     "output_type": "display_data"
    },
    {
     "name": "stdout",
     "output_type": "stream",
     "text": [
      "Alice is best matched with Diana (Score: 0.77)\n",
      "Bob is best matched with Alice (Score: 0.64)\n",
      "Charlie is best matched with Diana (Score: 0.56)\n",
      "Diana is best matched with Alice (Score: 0.77)\n"
     ]
    }
   ],
   "source": [
    "from sentence_transformers import SentenceTransformer, util\n",
    "import numpy as np\n",
    "\n",
    "model = SentenceTransformer('all-MiniLM-L6-v2')\n",
    "\n",
    "# Step 1: Compute embeddings for interests + bio\n",
    "for user in users:\n",
    "    interest_str = \", \".join(user[\"interests\"])\n",
    "    user[\"emb_interest\"] = model.encode(interest_str, convert_to_tensor=True)\n",
    "    user[\"emb_bio\"] = model.encode(user[\"bio\"], convert_to_tensor=True)\n",
    "\n",
    "# Step 2: Composite scoring function\n",
    "def score_users(u, v, weights):\n",
    "    # Skip self-match\n",
    "    if u[\"name\"] == v[\"name\"]:\n",
    "        return -1\n",
    "\n",
    "    # Interests similarity\n",
    "    sim_int = util.cos_sim(u[\"emb_interest\"], v[\"emb_interest\"]).item()\n",
    "\n",
    "    # Bio similarity\n",
    "    sim_bio = util.cos_sim(u[\"emb_bio\"], v[\"emb_bio\"]).item()\n",
    "\n",
    "    # Personality similarity\n",
    "    traits_u = np.array(list(u[\"personality\"].values()))\n",
    "    traits_v = np.array(list(v[\"personality\"].values()))\n",
    "    sim_per = 1 - np.linalg.norm(traits_u - traits_v) / np.sqrt(len(traits_u))\n",
    "\n",
    "    # Language overlap\n",
    "    lang_u = set(u[\"languages\"])\n",
    "    lang_v = set(v[\"languages\"])\n",
    "    sim_lang = len(lang_u & lang_v) / len(lang_u | lang_v)\n",
    "\n",
    "    # Final weighted score\n",
    "    score = (\n",
    "        weights[\"interests\"] * sim_int +\n",
    "        weights[\"bio\"] * sim_bio +\n",
    "        weights[\"personality\"] * sim_per +\n",
    "        weights[\"language\"] * sim_lang\n",
    "    )\n",
    "    return score\n",
    "\n",
    "# Step 3: Match each user to the best other user\n",
    "weights = {\"interests\": 0.4, \"bio\": 0.2, \"personality\": 0.3, \"language\": 0.1}\n",
    "\n",
    "for user in users:\n",
    "    best_match = None\n",
    "    best_score = -1\n",
    "    for other_user in users:\n",
    "        score = score_users(user, other_user, weights)\n",
    "        if score > best_score:\n",
    "            best_score = score\n",
    "            best_match = other_user\n",
    "\n",
    "    print(f\"{user['name']} is best matched with {best_match['name']} (Score: {best_score:.2f})\")\n"
   ]
  },
  {
   "cell_type": "code",
   "execution_count": null,
   "id": "3df24d42",
   "metadata": {},
   "outputs": [],
   "source": []
  }
 ],
 "metadata": {
  "kernelspec": {
   "display_name": "Python 3",
   "language": "python",
   "name": "python3"
  },
  "language_info": {
   "codemirror_mode": {
    "name": "ipython",
    "version": 3
   },
   "file_extension": ".py",
   "mimetype": "text/x-python",
   "name": "python",
   "nbconvert_exporter": "python",
   "pygments_lexer": "ipython3",
   "version": "3.10.12"
  }
 },
 "nbformat": 4,
 "nbformat_minor": 5
}
